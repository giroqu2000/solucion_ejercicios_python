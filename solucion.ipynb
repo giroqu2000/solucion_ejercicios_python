{
  "nbformat": 4,
  "nbformat_minor": 0,
  "metadata": {
    "colab": {
      "provenance": [],
      "authorship_tag": "ABX9TyMuKtSzW8dvaPoe8a0MeOUs",
      "include_colab_link": true
    },
    "kernelspec": {
      "name": "python3",
      "display_name": "Python 3"
    },
    "language_info": {
      "name": "python"
    }
  },
  "cells": [
    {
      "cell_type": "markdown",
      "metadata": {
        "id": "view-in-github",
        "colab_type": "text"
      },
      "source": [
        "<a href=\"https://colab.research.google.com/github/giroqu2000/solucion_ejercicios_python/blob/main/solucion.ipynb\" target=\"_parent\"><img src=\"https://colab.research.google.com/assets/colab-badge.svg\" alt=\"Open In Colab\"/></a>"
      ]
    },
    {
      "cell_type": "markdown",
      "source": [
        "Ejercicio 1\n",
        "\n",
        "Imagina que un extraterrestre acaba de ser derribado en un juego. Cree una variable llamada alien_color y asígnele un valor de 'verde', 'amarillo' o 'rojo'.\n",
        "\n",
        "Escribe una declaración if para probar si el color del extraterrestre es verde. Si es así, imprime un mensaje de que el jugador acaba de ganar 5 puntos."
      ],
      "metadata": {
        "id": "K_doLYTf9Kmi"
      }
    },
    {
      "cell_type": "code",
      "execution_count": null,
      "metadata": {
        "colab": {
          "base_uri": "https://localhost:8080/"
        },
        "id": "lZNbdf_F1QG5",
        "outputId": "353b4ce4-9701-4d0f-c1d0-2bc7aed8f000"
      },
      "outputs": [
        {
          "output_type": "stream",
          "name": "stdout",
          "text": [
            "que color es el extraterrestre:amarillo\n",
            "este no es el color del extraterrestre\n",
            "no a elegido ningun color\n"
          ]
        }
      ],
      "source": [
        "#solcucion\n",
        "alien_color=input(\"que color es el extraterrestre:\")\n",
        "if alien_color == \"verde\":      \n",
        "    print(\"felicidades usted gana 5 puntos\")\n",
        "if alien_color == \"amarillo\":\n",
        "    print(\"este no es el color del extraterrestre\")\n",
        "if alien_color == \"rojo\":\n",
        "    print(\"este no es el color del extraterretre\")\n",
        "else:\n",
        "  print(\"no a elegido ningun color\")"
      ]
    },
    {
      "cell_type": "markdown",
      "source": [
        "Ejercicio 2\n",
        "\n",
        "Elija un color para un extraterrestre como lo hizo en el Ejercicio anterior y escriba una cadena if-else.\n",
        "\n",
        "Si el alienígena es verde, imprime un mensaje de que el jugador obtuvo 5 puntos. Si el alienígena es amarillo, imprime un mensaje de que el jugador obtuvo 10 puntos. Si el alienígena es rojo, imprime un mensaje de que el jugador obtuvo 15 puntos."
      ],
      "metadata": {
        "id": "fKIyesrG-QsQ"
      }
    },
    {
      "cell_type": "code",
      "source": [
        "alien_color=input(\"de que color es el extraterrestre:\")\n",
        "if alien_color==\"verde\":\n",
        "   print(\"felicidades usted gana 5 puntos\")\n",
        "elif alien_color==\"amarillo\":\n",
        "   print(\"felicidades usted gana 10 puntos\")\n",
        "elif alien_color==\"rojo\":\n",
        "   print(\"felicidades usted gana 10 puntos\")\n",
        "else:\n",
        "   print(\"no a elegido ningun color\")"
      ],
      "metadata": {
        "colab": {
          "base_uri": "https://localhost:8080/"
        },
        "id": "XWdK788J-TUI",
        "outputId": "096766ce-2669-43ec-9970-02b1f9e2a944"
      },
      "execution_count": null,
      "outputs": [
        {
          "output_type": "stream",
          "name": "stdout",
          "text": [
            "de que color es el extraterrestre:rojo\n",
            "felicidades usted gana 10 puntos\n"
          ]
        }
      ]
    },
    {
      "cell_type": "markdown",
      "source": [
        "Ejercicio 1\n",
        "\n",
        "Escriba un ciclo que solicite al usuario que ingrese una serie de ingredientes para la pizza hasta que ingrese un valor de 'salir'. A medida que ingresen cada ingrediente, imprima un mensaje que diga que agregará ese ingrediente a su pizza.\n"
      ],
      "metadata": {
        "id": "pwEuIKQQFRst"
      }
    },
    {
      "cell_type": "code",
      "source": [
        "a=\"\\nEl nuevo ingrediente ingresado a su pizza es:\"\n",
        "a+=\"\\nEscribe 'salir' para finalizar.\"\n",
        "message = \"\"\n",
        "while message != \"salir\":\n",
        "   message = input(a)\n",
        "   print(message)\n"
      ],
      "metadata": {
        "id": "VUHDWWPuFTgd"
      },
      "execution_count": null,
      "outputs": []
    },
    {
      "cell_type": "markdown",
      "source": [
        "Ejercicio 2\n",
        "\n",
        "Un cine cobra diferentes precios de boletos dependiendo de la edad de una persona. Si una persona es menor de 3 años, la entrada es gratuita; si son entre 3 y 12, el boleto cuesta s/. 10; y si son mayores de 12 años, el boleto cuesta s/. 15. Escriba un ciclo en el que pregunte a los usuarios su edad y luego dígales el costo de su boleto de cine."
      ],
      "metadata": {
        "id": "2bU68o41FbOV"
      }
    },
    {
      "cell_type": "code",
      "source": [
        "a=0\n",
        "a+=1\n",
        "while 0<a:\n",
        "  numero=input(a)\n",
        "  if a < 3:\n",
        "    print(\"la entrada es gratis\")\n",
        "  elif 3<=a & a<=12:\n",
        "    print(\"el boleto cuesta 10 soles\")\n",
        "  elif 12<a:\n",
        "    print(\"el boleto cuesta 15 soles\")\n",
        "  a=0\n",
        "  "
      ],
      "metadata": {
        "id": "asz6U5NMBFob"
      },
      "execution_count": null,
      "outputs": []
    },
    {
      "cell_type": "markdown",
      "source": [
        "Ejercicio 1\n",
        "\n",
        "Piensa en al menos tres tipos de tu pizza favorita. Almacene estos nombres de pizza en una lista y luego use un ciclo for para imprimir el nombre de cada pizza.\n",
        "\n",
        "Modifique su ciclo for para imprimir una oración usando el nombre de la pizza en lugar de imprimir solo el nombre de la pizza. Para cada pizza, debe tener una línea de salida que contenga una declaración simple como Me gusta la pizza de pepperoni. Agregue una línea al final de su programa, fuera del bucle for, que indique cuánto le gusta la pizza. El resultado debe constar de tres o más líneas sobre los tipos de pizza que te gustan y luego una oración adicional, como ¡Me encanta la pizza!"
      ],
      "metadata": {
        "id": "bpIy0myAFiX1"
      }
    },
    {
      "cell_type": "code",
      "source": [
        "lista_pizzas = [\"pizza_hawaiana\",\"pizza_americana\",\"pizza_pepperoni\"]\n",
        "for pizza in lista_pizzas:\n",
        "  print(pizza)\n",
        "  print(f\"me gusta la {pizza}.\\n\")\n",
        "\n",
        "\n",
        "print(f\"me gusta mucho la pizza por su variedad de sabores\")\n",
        "print(\"¡Me encanta la pizza!\")"
      ],
      "metadata": {
        "id": "EVDjlRdFFlau",
        "outputId": "aa189681-3c01-43af-aaa0-d13368105f07",
        "colab": {
          "base_uri": "https://localhost:8080/"
        }
      },
      "execution_count": null,
      "outputs": [
        {
          "output_type": "stream",
          "name": "stdout",
          "text": [
            "pizza_hawaiana\n",
            "me gusta la pizza_hawaiana.\n",
            "\n",
            "pizza_americana\n",
            "me gusta la pizza_americana.\n",
            "\n",
            "pizza_pepperoni\n",
            "me gusta la pizza_pepperoni.\n",
            "\n",
            "me gusta mucho la pizza por su variedad de sabores\n",
            "¡Me encanta la pizza!\n"
          ]
        }
      ]
    },
    {
      "cell_type": "markdown",
      "source": [
        "Ejercicio 2\n",
        "\n",
        "Piensa en al menos tres animales diferentes que tengan una característica común. Guarde los nombres de estos animales en una lista y luego use un ciclo for para imprimir el nombre de cada animal.\n",
        "\n",
        "Modifique su programa para imprimir una declaración sobre cada animal, como Un perro sería una gran mascota. Agregue una línea al final de su programa indicando lo que estos animales tienen en común. Podría escribir una oración como ¡Cualquiera de estos animales sería una gran mascota!"
      ],
      "metadata": {
        "id": "qSkHCa6XFnCF"
      }
    },
    {
      "cell_type": "code",
      "source": [
        "lista_animales_salvajes = [\"leon\",\"elefante\",\"serpiente\"]\n",
        "for animales_salvajes in lista_animales_salvajes:\n",
        "   print(animales_salvajes)\n",
        "   if \"leon\" in animales_salvajes:\n",
        "      print(\"El leon es el rey de la selva.\\n\")\n",
        "   if \"elefante\" in animales_salvajes:\n",
        "      print(\"El elefante es muy territorial.\\n\")\n",
        "   if \"serpiente\" in animales_salvajes:\n",
        "      print(\"La serpiente es un animal muy venenoso.\\n\")\n",
        "     \n",
        "\n",
        "  \n",
        "print(\"¡cualquiere de estos animales salvajes me mataria!\")"
      ],
      "metadata": {
        "id": "SVH5ERb9Fnp0",
        "outputId": "f36b5596-fed4-4629-d092-6df1fbdc7db9",
        "colab": {
          "base_uri": "https://localhost:8080/"
        }
      },
      "execution_count": null,
      "outputs": [
        {
          "output_type": "stream",
          "name": "stdout",
          "text": [
            "leon\n",
            "El leon es el rey de la selva.\n",
            "\n",
            "elefante\n",
            "El elefante es muy territorial.\n",
            "\n",
            "serpiente\n",
            "La serpiente es un animal muy venenoso.\n",
            "\n",
            "¡cualquiere de estos animales salvajes me mataria!\n"
          ]
        }
      ]
    },
    {
      "cell_type": "markdown",
      "source": [
        "Ejercicio 1\n",
        "\n",
        "Escriba una función llamada display_message() que imprima una oración que diga a todos lo que está aprendiendo en este capítulo. Llame a la función y asegúrese de que el mensaje se muestre correctamente."
      ],
      "metadata": {
        "id": "5iO8ZpR2D7LH"
      }
    },
    {
      "cell_type": "code",
      "source": [
        "def display_message():\n",
        "  \"\"\"imprimir una oracion que diga que estodos estan aprendiendo este capitulo\"\"\"\n",
        "  print(\"¡Estamos aprendiendo todas las funciones de Phython!\")"
      ],
      "metadata": {
        "id": "Igeqj1nUD74u"
      },
      "execution_count": null,
      "outputs": []
    },
    {
      "cell_type": "code",
      "source": [
        "display_message()"
      ],
      "metadata": {
        "id": "Pn601O6aNPRt",
        "outputId": "6356a107-72d2-4f01-8c53-8bc94fd6b2fc",
        "colab": {
          "base_uri": "https://localhost:8080/"
        }
      },
      "execution_count": null,
      "outputs": [
        {
          "output_type": "stream",
          "name": "stdout",
          "text": [
            "¡Estamos aprendiendo todas las funciones de Phython!\n"
          ]
        }
      ]
    },
    {
      "cell_type": "markdown",
      "source": [
        "Ejercicio 2\n",
        "\n",
        "Escriba una función llamada favorite_book() que acepte un parámetro, título. La función debe imprimir un mensaje, como Uno de mis libros favoritos es Alicia en el país de las maravillas. Llame a la función, asegurándose de incluir el título de un libro como argumento en la llamada a la función."
      ],
      "metadata": {
        "id": "vZOC8Z7JD8XW"
      }
    },
    {
      "cell_type": "code",
      "source": [
        "def favorite_book():\n",
        "  \"\"\"imprimir uno de mis libros favoritos\"\"\"\n",
        "  a=input(\"cual es el titulo de tu libro favorito?.\")\n",
        "  print(f\"uno de mis libros favoritos es {a.title()}.\")"
      ],
      "metadata": {
        "id": "LUn08Ed2E1jm"
      },
      "execution_count": null,
      "outputs": []
    },
    {
      "cell_type": "code",
      "source": [
        "favorite_book()"
      ],
      "metadata": {
        "id": "2ylnTfSrQ2sl",
        "outputId": "dcbb60e0-2739-43db-e548-3a7ae66fa64f",
        "colab": {
          "base_uri": "https://localhost:8080/"
        }
      },
      "execution_count": null,
      "outputs": [
        {
          "output_type": "stream",
          "name": "stdout",
          "text": [
            "cual es el titulo de tu libro favorito?.don quijote de la mancha \n",
            "uno de mis libros favoritos es Don Quijote De La Mancha .\n"
          ]
        }
      ]
    },
    {
      "cell_type": "markdown",
      "source": [
        "Ejercicio 1\n",
        "\n",
        "Escribe una función llamada make_shirt() que acepte un tamaño y el texto de un mensaje que debería estar impreso en la camiseta. La función debe imprimir una oración que resuma el tamaño de la camisa y el mensaje impreso en ella.\n",
        "\n",
        "Llame a la función una vez usando argumentos posicionales para hacer una camisa. Llame a la función por segunda vez usando argumentos de palabras clave."
      ],
      "metadata": {
        "id": "XWOs0GSCE1-W"
      }
    },
    {
      "cell_type": "code",
      "source": [
        "def make_shirt(a,b):\n",
        "  \"\"\" la funcion acepta un tamaño y el texo que debe de ir en la camiseta\"\"\"\n",
        "  print(f\"El tamaño de la camiseta es {a} y el texto que ira en la camiseta sera {b}.\")"
      ],
      "metadata": {
        "id": "0AYCif6-E6RO"
      },
      "execution_count": null,
      "outputs": []
    },
    {
      "cell_type": "code",
      "source": [
        "make_shirt(20,\"me gusta python\")"
      ],
      "metadata": {
        "id": "0wfa-7vjmcyt",
        "outputId": "ccf5cc29-d550-4fea-c4b0-3198aed0e853",
        "colab": {
          "base_uri": "https://localhost:8080/"
        }
      },
      "execution_count": null,
      "outputs": [
        {
          "output_type": "stream",
          "name": "stdout",
          "text": [
            "El tamaño de la camiseta es 20 y el texto que ira en la camiseta sera me gusta python.\n"
          ]
        }
      ]
    },
    {
      "cell_type": "code",
      "source": [
        "make_shirt(b=\"Romero\",a=20)"
      ],
      "metadata": {
        "id": "KO5KBHWcmrFl",
        "outputId": "48147e23-af3a-40c3-acee-0972049c96a4",
        "colab": {
          "base_uri": "https://localhost:8080/"
        }
      },
      "execution_count": null,
      "outputs": [
        {
          "output_type": "stream",
          "name": "stdout",
          "text": [
            "El tamaño de la camiseta es 20 y el texto que ira en la camiseta sera Romero.\n"
          ]
        }
      ]
    },
    {
      "cell_type": "markdown",
      "source": [
        "Ejercicio 2\n",
        "\n",
        "Modifique la función make_shirt() para que las camisetas sean grandes por defecto con un mensaje que diga Me encanta Python. Haz una camiseta grande y una camiseta mediana con el mensaje predeterminado y una camiseta de cualquier tamaño con un mensaje diferente."
      ],
      "metadata": {
        "id": "pqpA-7gYE66O"
      }
    },
    {
      "cell_type": "code",
      "source": [
        "def make_shirt(a=\"grande\",b=\"me encanta python\"):\n",
        "  \"\"\"funcion que imprime talla grande y  mensaje\"\"\"\n",
        "  print(f\"la talla es {a} , el mensaje sera {b}\")\n",
        "make_shirt()\n",
        "make_shirt(a=\"mediano\")\n",
        "make_shirt(a=\"grande\",b=\"me encanta el c++\")"
      ],
      "metadata": {
        "id": "0MFD5ReDE9Nn",
        "outputId": "6b223635-c8c8-4ee2-9944-1799cf6dcf15",
        "colab": {
          "base_uri": "https://localhost:8080/"
        }
      },
      "execution_count": null,
      "outputs": [
        {
          "output_type": "stream",
          "name": "stdout",
          "text": [
            "la talla es grande , el mensaje sera me encanta python\n",
            "la talla es mediano , el mensaje sera me encanta python\n",
            "la talla es grande , el mensaje sera me encanta el c++\n"
          ]
        }
      ]
    },
    {
      "cell_type": "code",
      "source": [
        "make_shirt()"
      ],
      "metadata": {
        "id": "IZhF8ts_psOd",
        "outputId": "5d86feb0-0ca6-4d4d-dd07-908ed89b429e",
        "colab": {
          "base_uri": "https://localhost:8080/"
        }
      },
      "execution_count": null,
      "outputs": [
        {
          "output_type": "stream",
          "name": "stdout",
          "text": [
            "la talla es grande , el mensaje sera me encanta python\n"
          ]
        }
      ]
    },
    {
      "cell_type": "markdown",
      "source": [
        "Ejercicio 3\n",
        "\n",
        "Escribe una función llamada describe_city() que acepte el nombre de una ciudad y su país. La función debe imprimir una oración simple, como Reykjavik está en Islandia. Asigne al parámetro para el país un valor predeterminado. Llame a su función para tres ciudades diferentes, al menos una de las cuales no se encuentra en el país predeterminado."
      ],
      "metadata": {
        "id": "b_njcBy6E9r2"
      }
    },
    {
      "cell_type": "code",
      "source": [
        "def describe_city(ciudad=\"Lima\",pais=\"Perú\"):\n",
        "  \"\"\"funcion que imprime ciudad y su pais\"\"\"\n",
        "  print(f\"{ciudad} esta en {pais}\")\n",
        "\n",
        "describe_city()\n",
        "describe_city(ciudad=\"Arequipa\",pais=\"Perú\")\n",
        "describe_city(ciudad=\"tokyo\",pais=\"Japon\")"
      ],
      "metadata": {
        "id": "NwZ8pNj2E_-X",
        "outputId": "b1c635b0-05d1-4bfb-d5d9-7d44bbb0a106",
        "colab": {
          "base_uri": "https://localhost:8080/"
        }
      },
      "execution_count": null,
      "outputs": [
        {
          "output_type": "stream",
          "name": "stdout",
          "text": [
            "Lima esta en Perú\n",
            "Arequipa esta en Perú\n",
            "tokyo esta en Japon\n"
          ]
        }
      ]
    },
    {
      "cell_type": "markdown",
      "source": [
        "Ejercicio 1\n",
        "\n",
        "Escribe una función llamada city_country() que tome el nombre de una ciudad y su país. La función debería devolver una cadena con el formato siguiente:\n",
        "\n",
        "\"Santiago, Chile\"\n",
        "\n",
        "Llame a su función con al menos tres pares de ciudades y países e imprima los valores que se devuelven."
      ],
      "metadata": {
        "id": "iRGGQ7hdFAfG"
      }
    },
    {
      "cell_type": "code",
      "source": [
        "def city_country(ciudades, paises):\n",
        "   \"\"\" retorna paises y ciudades\"\"\"\n",
        "   full_city = f\" {ciudades}, {paises} \"\n",
        "   return full_city.title()\n",
        "\n",
        "while True:\n",
        "   print(\"Escriba quit si desea salir\")\n",
        "\n",
        "   f_ciudades = input(\"Ciudad: \")\n",
        "   if f_ciudades =='quit':\n",
        "       break\n",
        "\n",
        "   f_paises = input(\"Pais: \")\n",
        "   if f_paises == 'quit':\n",
        "       break\n",
        "   city_completed = city_country(f_ciudades, f_paises)\n",
        "   print(f\"{city_completed}\")"
      ],
      "metadata": {
        "id": "9w-RwDY6FE1O",
        "outputId": "a252ec49-313e-4f6b-e73d-88b507fa2c61",
        "colab": {
          "base_uri": "https://localhost:8080/"
        }
      },
      "execution_count": 3,
      "outputs": [
        {
          "name": "stdout",
          "output_type": "stream",
          "text": [
            "Escriba quit si desea salir\n",
            "Ciudad: tokyo\n",
            "Pais: japon\n",
            " Tokyo, Japon \n",
            "Escriba quit si desea salir\n",
            "Ciudad: quit\n"
          ]
        }
      ]
    },
    {
      "cell_type": "markdown",
      "source": [
        "Ejercicio 2\n",
        "\n",
        "Escriba una función llamada make_album() que cree un diccionario que describa un álbum de música. La función debe tomar el nombre de un artista y el título de un álbum, y debe devolver un diccionario que contenga estos dos datos. Utilice la función para crear tres diccionarios que representen diferentes álbumes. Imprima cada valor devuelto para mostrar que los diccionarios están almacenando la información del álbum correctamente.\n",
        "\n",
        "Use None para agregar un parámetro opcional a make_album() que le permita almacenar la cantidad de canciones en un álbum. Si la línea de llamada incluye un valor para la cantidad de canciones, agregue ese valor al diccionario del álbum. Realice al menos una nueva llamada de función que incluya la cantidad de canciones en un álbum"
      ],
      "metadata": {
        "id": "UXMFFljMFFUv"
      }
    },
    {
      "cell_type": "code",
      "source": [
        " make_album = {\"album1\":\"homerun\",\n",
        "               \"album2\":\"back to the game\",\n",
        "               \"artista1\":\"Paulo londra\"}\n",
        "               "
      ],
      "metadata": {
        "id": "Q9oVwFe0FHl_"
      },
      "execution_count": 31,
      "outputs": []
    },
    {
      "cell_type": "code",
      "source": [
        "make_album"
      ],
      "metadata": {
        "id": "s7JJypibR0Xh",
        "outputId": "045d3238-b3d8-42c6-a34a-efe9868a63dc",
        "colab": {
          "base_uri": "https://localhost:8080/"
        }
      },
      "execution_count": 14,
      "outputs": [
        {
          "output_type": "execute_result",
          "data": {
            "text/plain": [
              "{'album1': 'homerun', 'album2': 'back to the game', 'artista1': 'Paulo londra'}"
            ]
          },
          "metadata": {},
          "execution_count": 14
        }
      ]
    },
    {
      "cell_type": "code",
      "source": [
        "make_album[\"album1\"]"
      ],
      "metadata": {
        "id": "vD_xZlXAgnt_",
        "outputId": "f8a7b937-6946-459f-b869-679c7a459490",
        "colab": {
          "base_uri": "https://localhost:8080/",
          "height": 36
        }
      },
      "execution_count": 35,
      "outputs": [
        {
          "output_type": "execute_result",
          "data": {
            "text/plain": [
              "'homerun'"
            ],
            "application/vnd.google.colaboratory.intrinsic+json": {
              "type": "string"
            }
          },
          "metadata": {},
          "execution_count": 35
        }
      ]
    },
    {
      "cell_type": "markdown",
      "source": [
        "Ejercicio 3\n",
        "\n",
        "Comience con su programa del ejercicio anterior. Escriba un ciclo while que permita a los usuarios ingresar el artista y el título de un álbum. Una vez que tenga esa información, llame a make_album() con la entrada del usuario e imprima el diccionario que se crea. Asegúrese de incluir un valor de salida en el ciclo while"
      ],
      "metadata": {
        "id": "6DHyPDqIFH_u"
      }
    },
    {
      "cell_type": "code",
      "source": [
        "def make_album(artista,album):\n",
        "  \"\"\"artis y album\"\"\"\n",
        "  full_album=f\"{artista},{album}\"\n",
        "  return full_album.title()\n",
        "while True:\n",
        "   print(\"escriba quit si desea salir\")\n",
        "\n",
        "   f_artista = input(\"cual es el nombre del artista?:\")\n",
        "   if f_artista == \"quit\":\n",
        "     break\n",
        "   f_album = input(\"cual es el nombre del album?:\")\n",
        "   if f_album == \"quit\":\n",
        "     break\n",
        "   artista_album_completo=make_album(f_artista,f_album)\n",
        "   print(f\"{make_album}\")"
      ],
      "metadata": {
        "id": "9WAkAPAmUrX5",
        "outputId": "3b0dcdb9-0b4c-417f-dacd-fec1f8a27fab",
        "colab": {
          "base_uri": "https://localhost:8080/"
        }
      },
      "execution_count": 23,
      "outputs": [
        {
          "name": "stdout",
          "output_type": "stream",
          "text": [
            "escriba quit si desea salir\n",
            "cual es el nombre del artista?:paulo londra\n",
            "cual es el nombre del album?:homerun\n",
            "<function make_album at 0x7f6bea833c10>\n",
            "escriba quit si desea salir\n",
            "cual es el nombre del artista?:quit\n"
          ]
        }
      ]
    },
    {
      "cell_type": "markdown",
      "source": [
        "Ejercicio 1\n",
        "\n",
        "Haz una lista que contenga una serie de mensajes de texto cortos. Pase la lista a una función llamada show_messages(), que imprime cada mensaje de texto."
      ],
      "metadata": {
        "id": "ZYc7zpvlFKXO"
      }
    },
    {
      "cell_type": "code",
      "source": [
        "def show_mensajes(messages):\n",
        "  for mensaje in messages:\n",
        "    print(f\"\\n{mensaje}\") "
      ],
      "metadata": {
        "id": "Nm_gKDcFFNzp"
      },
      "execution_count": 24,
      "outputs": []
    },
    {
      "cell_type": "code",
      "source": [
        "show_mensajes([\"mensaje1\",\"mensaje2\",\"mensaje3\"])"
      ],
      "metadata": {
        "id": "eR2L6FL2gTy6",
        "outputId": "caeec8ff-2762-4001-c3cd-e9ee9f6db6a7",
        "colab": {
          "base_uri": "https://localhost:8080/"
        }
      },
      "execution_count": 27,
      "outputs": [
        {
          "output_type": "stream",
          "name": "stdout",
          "text": [
            "\n",
            "mensaje1\n",
            "\n",
            "mensaje2\n",
            "\n",
            "mensaje3\n"
          ]
        }
      ]
    },
    {
      "cell_type": "markdown",
      "source": [
        "Ejercicio 2\n",
        "\n",
        "Comience con una copia de su programa del Ejercicio anterior. Escriba una función llamada send_messages() que imprima cada mensaje de texto y mueva cada mensaje a una nueva lista llamada sent_messages a medida que se imprime. Después de llamar a la función, imprima ambas listas para asegurarse de que los mensajes se movieron correctamente."
      ],
      "metadata": {
        "id": "LkOmUJINFOJm"
      }
    },
    {
      "cell_type": "code",
      "source": [
        "def send_messages(messages):\n",
        "  for message in messages:\n",
        "    print(f\"\\n{message}\")"
      ],
      "metadata": {
        "id": "_XpfM2n5FQa2"
      },
      "execution_count": 36,
      "outputs": []
    },
    {
      "cell_type": "code",
      "source": [
        "send_messages([\"mensaje1\",\"mensaje2\",\"mensaje3\"])"
      ],
      "metadata": {
        "id": "PS434M5IluGi",
        "outputId": "74f35c12-4b9f-4511-b0f4-aa6fb6b72ec5",
        "colab": {
          "base_uri": "https://localhost:8080/"
        }
      },
      "execution_count": 38,
      "outputs": [
        {
          "output_type": "stream",
          "name": "stdout",
          "text": [
            "\n",
            "mensaje1\n",
            "\n",
            "mensaje2\n",
            "\n",
            "mensaje3\n"
          ]
        }
      ]
    },
    {
      "cell_type": "code",
      "source": [
        "from funciones import sent_messages"
      ],
      "metadata": {
        "id": "Had5B7gfluFI"
      },
      "execution_count": 39,
      "outputs": []
    },
    {
      "cell_type": "code",
      "source": [
        "sent_messages([\"mensaje1\",\"mensaje2\",\"mensaje3\"])"
      ],
      "metadata": {
        "id": "yRwxUAZJmuvj",
        "outputId": "a356fa3f-878c-4f9c-a8cc-90158cae38ed",
        "colab": {
          "base_uri": "https://localhost:8080/"
        }
      },
      "execution_count": 41,
      "outputs": [
        {
          "output_type": "stream",
          "name": "stdout",
          "text": [
            "\n",
            "mensaje1\n",
            "\n",
            "mensaje2\n",
            "\n",
            "mensaje3\n"
          ]
        }
      ]
    },
    {
      "cell_type": "markdown",
      "source": [
        "Ejercicio 3\n",
        "\n",
        "Comience con su trabajo del Ejercicio anterior. Llame a la función send_messages() con una copia de la lista de mensajes. Después de llamar a la función, imprima ambas listas para mostrar que la lista original ha conservado sus mensajes."
      ],
      "metadata": {
        "id": "1DCslffdFQ0m"
      }
    },
    {
      "cell_type": "code",
      "source": [
        "send_messages([\"mensaje1\",\"mensaje2\",\"mensaje3\"])"
      ],
      "metadata": {
        "id": "QEiO0mFZFS4F",
        "outputId": "26300877-5a04-448c-a102-951f52e8a4eb",
        "colab": {
          "base_uri": "https://localhost:8080/"
        }
      },
      "execution_count": 44,
      "outputs": [
        {
          "output_type": "stream",
          "name": "stdout",
          "text": [
            "\n",
            "mensaje1\n",
            "\n",
            "mensaje2\n",
            "\n",
            "mensaje3\n"
          ]
        }
      ]
    },
    {
      "cell_type": "code",
      "source": [
        "sent_messages([\"mensaje1\",\"mensaje2\",\"mensaje3\"])"
      ],
      "metadata": {
        "id": "e9p6kCBcprA6",
        "outputId": "933e84e8-12f8-4774-bde3-49f7b0a4493f",
        "colab": {
          "base_uri": "https://localhost:8080/"
        }
      },
      "execution_count": 45,
      "outputs": [
        {
          "output_type": "stream",
          "name": "stdout",
          "text": [
            "\n",
            "mensaje1\n",
            "\n",
            "mensaje2\n",
            "\n",
            "mensaje3\n"
          ]
        }
      ]
    },
    {
      "cell_type": "markdown",
      "source": [
        "Ejercicio 1\n",
        "\n",
        "Escribe una función que acepte una lista de artículos que una persona quiere en un sándwich. La función debe tener un parámetro que recopile tantos elementos como proporcione la llamada a la función, y debe imprimir un resumen del sándwich que se está ordenando. Llame a la función tres veces, usando un número diferente de argumentos cada vez."
      ],
      "metadata": {
        "id": "VD4W9vupFTMm"
      }
    },
    {
      "cell_type": "code",
      "source": [
        "def make_sandwich(*ingredientes):\n",
        "  \"\"\"los ingredientes de la pizzs\"\"\"\n",
        "  print(\"\\n.la pizza contiene los siguentes ingrediente:\")\n",
        "  for ingrediente in ingredientes:\n",
        "    print(f\"-{ingrediente}\")"
      ],
      "metadata": {
        "id": "XX7vd9kfFV1-"
      },
      "execution_count": 51,
      "outputs": []
    },
    {
      "cell_type": "code",
      "source": [
        "make_sandwich(\"tomate\",\"queso\",\"papas\")\n"
      ],
      "metadata": {
        "id": "seSE-U03uDAC",
        "outputId": "4b551774-5a77-4276-f337-52253b1acf48",
        "colab": {
          "base_uri": "https://localhost:8080/"
        }
      },
      "execution_count": 55,
      "outputs": [
        {
          "output_type": "stream",
          "name": "stdout",
          "text": [
            "\n",
            ".la pizza contiene los siguentes ingrediente:\n",
            "-tomate\n",
            "-queso\n",
            "-papas\n"
          ]
        }
      ]
    },
    {
      "cell_type": "markdown",
      "source": [
        "Ejercicio 2\n",
        "\n",
        "Comience con una copia de user_profile de Uso de argumentos de palabras clave arbitrarias. Cree un perfil de usted mismo llamando a build_profile(), usando su nombre y apellido y otros tres pares clave-valor que lo describan."
      ],
      "metadata": {
        "id": "P0W6gJLLFWLG"
      }
    },
    {
      "cell_type": "code",
      "source": [
        "def buid_profile(nombre, apellido, **user_info):\n",
        "    \"\"\"caracteristicas de mi persosna.\"\"\"\n",
        "    user_info['primer_nombre'] = nombre\n",
        "    user_info['primer_apellido'] = apellido\n",
        "    return user_info"
      ],
      "metadata": {
        "id": "xBWeD8vvFZaO"
      },
      "execution_count": 57,
      "outputs": []
    },
    {
      "cell_type": "code",
      "source": [
        "a=buid_profile(\"giancarlo\",\"romero\",pais=\"PERÚ\",edad=22,tes=\"trigeño\")\n",
        "print(a)"
      ],
      "metadata": {
        "id": "PTDpxPX63fLK",
        "outputId": "27013ca4-b7ca-4552-8257-eea2df4cb87e",
        "colab": {
          "base_uri": "https://localhost:8080/"
        }
      },
      "execution_count": 58,
      "outputs": [
        {
          "output_type": "stream",
          "name": "stdout",
          "text": [
            "{'pais': 'PERÚ', 'edad': 22, 'tes': 'trigeño', 'primer_nombre': 'giancarlo', 'primer_apellido': 'romero'}\n"
          ]
        }
      ]
    },
    {
      "cell_type": "markdown",
      "source": [
        "Ejercicio 3\n",
        "\n",
        "Escribe una función que almacene información sobre un automóvil en un diccionario. La función siempre debe recibir un fabricante y un nombre de modelo. Entonces debería aceptar un número arbitrario de argumentos de palabras clave. Llame a la función con la información requerida y otros dos pares de nombre y valor, como un color o una función opcional. Su función debería funcionar para una llamada como esta:\n",
        "\n",
        "coche = make_car('subaru', 'outback', color='blue', tow_package=True)\n",
        "\n",
        "Imprima el diccionario que se devuelve para asegurarse de que toda la información se almacenó correctamente."
      ],
      "metadata": {
        "id": "J3tkcwxVFaNG"
      }
    },
    {
      "cell_type": "code",
      "source": [],
      "metadata": {
        "id": "d9soQD1QFcd_"
      },
      "execution_count": null,
      "outputs": []
    }
  ]
}