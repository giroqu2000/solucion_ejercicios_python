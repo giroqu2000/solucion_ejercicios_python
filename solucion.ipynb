{
  "nbformat": 4,
  "nbformat_minor": 0,
  "metadata": {
    "colab": {
      "provenance": [],
      "authorship_tag": "ABX9TyNRtVf6bSdgt77b779T6yv2",
      "include_colab_link": true
    },
    "kernelspec": {
      "name": "python3",
      "display_name": "Python 3"
    },
    "language_info": {
      "name": "python"
    }
  },
  "cells": [
    {
      "cell_type": "markdown",
      "metadata": {
        "id": "view-in-github",
        "colab_type": "text"
      },
      "source": [
        "<a href=\"https://colab.research.google.com/github/giroqu2000/solucion_ejercicios_python/blob/main/solucion.ipynb\" target=\"_parent\"><img src=\"https://colab.research.google.com/assets/colab-badge.svg\" alt=\"Open In Colab\"/></a>"
      ]
    },
    {
      "cell_type": "markdown",
      "source": [
        "Ejercicio 1\n",
        "\n",
        "Imagina que un extraterrestre acaba de ser derribado en un juego. Cree una variable llamada alien_color y asígnele un valor de 'verde', 'amarillo' o 'rojo'.\n",
        "\n",
        "Escribe una declaración if para probar si el color del extraterrestre es verde. Si es así, imprime un mensaje de que el jugador acaba de ganar 5 puntos."
      ],
      "metadata": {
        "id": "K_doLYTf9Kmi"
      }
    },
    {
      "cell_type": "code",
      "execution_count": null,
      "metadata": {
        "colab": {
          "base_uri": "https://localhost:8080/"
        },
        "id": "lZNbdf_F1QG5",
        "outputId": "353b4ce4-9701-4d0f-c1d0-2bc7aed8f000"
      },
      "outputs": [
        {
          "output_type": "stream",
          "name": "stdout",
          "text": [
            "que color es el extraterrestre:amarillo\n",
            "este no es el color del extraterrestre\n",
            "no a elegido ningun color\n"
          ]
        }
      ],
      "source": [
        "#solcucion\n",
        "alien_color=input(\"que color es el extraterrestre:\")\n",
        "if alien_color == \"verde\":      \n",
        "    print(\"felicidades usted gana 5 puntos\")\n",
        "if alien_color == \"amarillo\":\n",
        "    print(\"este no es el color del extraterrestre\")\n",
        "if alien_color == \"rojo\":\n",
        "    print(\"este no es el color del extraterretre\")\n",
        "else:\n",
        "  print(\"no a elegido ningun color\")"
      ]
    },
    {
      "cell_type": "markdown",
      "source": [
        "Ejercicio 2\n",
        "\n",
        "Elija un color para un extraterrestre como lo hizo en el Ejercicio anterior y escriba una cadena if-else.\n",
        "\n",
        "Si el alienígena es verde, imprime un mensaje de que el jugador obtuvo 5 puntos. Si el alienígena es amarillo, imprime un mensaje de que el jugador obtuvo 10 puntos. Si el alienígena es rojo, imprime un mensaje de que el jugador obtuvo 15 puntos."
      ],
      "metadata": {
        "id": "fKIyesrG-QsQ"
      }
    },
    {
      "cell_type": "code",
      "source": [
        "alien_color=input(\"de que color es el extraterrestre:\")\n",
        "if alien_color==\"verde\":\n",
        "   print(\"felicidades usted gana 5 puntos\")\n",
        "elif alien_color==\"amarillo\":\n",
        "   print(\"felicidades usted gana 10 puntos\")\n",
        "elif alien_color==\"rojo\":\n",
        "   print(\"felicidades usted gana 10 puntos\")\n",
        "else:\n",
        "   print(\"no a elegido ningun color\")"
      ],
      "metadata": {
        "colab": {
          "base_uri": "https://localhost:8080/"
        },
        "id": "XWdK788J-TUI",
        "outputId": "096766ce-2669-43ec-9970-02b1f9e2a944"
      },
      "execution_count": null,
      "outputs": [
        {
          "output_type": "stream",
          "name": "stdout",
          "text": [
            "de que color es el extraterrestre:rojo\n",
            "felicidades usted gana 10 puntos\n"
          ]
        }
      ]
    },
    {
      "cell_type": "markdown",
      "source": [
        "Ejercicio 1\n",
        "\n",
        "Escriba un ciclo que solicite al usuario que ingrese una serie de ingredientes para la pizza hasta que ingrese un valor de 'salir'. A medida que ingresen cada ingrediente, imprima un mensaje que diga que agregará ese ingrediente a su pizza.\n"
      ],
      "metadata": {
        "id": "pwEuIKQQFRst"
      }
    },
    {
      "cell_type": "code",
      "source": [
        "a=\"\\nEl nuevo ingrediente ingresado a su pizza es:\"\n",
        "a+=\"\\nEscribe 'salir' para finalizar.\"\n",
        "message = \"\"\n",
        "while message != \"salir\":\n",
        "   message = input(a)\n",
        "   print(message)\n"
      ],
      "metadata": {
        "id": "VUHDWWPuFTgd"
      },
      "execution_count": null,
      "outputs": []
    },
    {
      "cell_type": "markdown",
      "source": [
        "Ejercicio 2\n",
        "\n",
        "Un cine cobra diferentes precios de boletos dependiendo de la edad de una persona. Si una persona es menor de 3 años, la entrada es gratuita; si son entre 3 y 12, el boleto cuesta s/. 10; y si son mayores de 12 años, el boleto cuesta s/. 15. Escriba un ciclo en el que pregunte a los usuarios su edad y luego dígales el costo de su boleto de cine."
      ],
      "metadata": {
        "id": "2bU68o41FbOV"
      }
    },
    {
      "cell_type": "code",
      "source": [
        "a=0\n",
        "a+=1\n",
        "while 0<a:\n",
        "  numero=input(\"cual es tu edad?:\")\n",
        "  if a < 3:\n",
        "    print(\"la entrada es gratis\")\n",
        "  elif 3<=a & a<=12:\n",
        "    print(\"el boleto cuesta 10 soles\")\n",
        "  elif 12<a:\n",
        "    print(\"el boleto cuesta 15 soles\")"
      ],
      "metadata": {
        "id": "asz6U5NMBFob"
      },
      "execution_count": null,
      "outputs": []
    },
    {
      "cell_type": "markdown",
      "source": [
        "Ejercicio 1\n",
        "\n",
        "Piensa en al menos tres tipos de tu pizza favorita. Almacene estos nombres de pizza en una lista y luego use un ciclo for para imprimir el nombre de cada pizza.\n",
        "\n",
        "Modifique su ciclo for para imprimir una oración usando el nombre de la pizza en lugar de imprimir solo el nombre de la pizza. Para cada pizza, debe tener una línea de salida que contenga una declaración simple como Me gusta la pizza de pepperoni. Agregue una línea al final de su programa, fuera del bucle for, que indique cuánto le gusta la pizza. El resultado debe constar de tres o más líneas sobre los tipos de pizza que te gustan y luego una oración adicional, como ¡Me encanta la pizza!"
      ],
      "metadata": {
        "id": "bpIy0myAFiX1"
      }
    },
    {
      "cell_type": "code",
      "source": [],
      "metadata": {
        "id": "EVDjlRdFFlau"
      },
      "execution_count": 38,
      "outputs": []
    },
    {
      "cell_type": "markdown",
      "source": [
        "Ejercicio 2\n",
        "\n",
        "Piensa en al menos tres animales diferentes que tengan una característica común. Guarde los nombres de estos animales en una lista y luego use un ciclo for para imprimir el nombre de cada animal.\n",
        "\n",
        "Modifique su programa para imprimir una declaración sobre cada animal, como Un perro sería una gran mascota. Agregue una línea al final de su programa indicando lo que estos animales tienen en común. Podría escribir una oración como ¡Cualquiera de estos animales sería una gran mascota!"
      ],
      "metadata": {
        "id": "qSkHCa6XFnCF"
      }
    },
    {
      "cell_type": "code",
      "source": [],
      "metadata": {
        "id": "SVH5ERb9Fnp0"
      },
      "execution_count": 38,
      "outputs": []
    }
  ]
}